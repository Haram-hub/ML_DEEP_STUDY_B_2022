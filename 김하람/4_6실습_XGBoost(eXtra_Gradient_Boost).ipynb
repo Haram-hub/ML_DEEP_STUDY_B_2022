{
  "cells": [
    {
      "cell_type": "markdown",
      "source": [
        "0803 실습완"
      ],
      "metadata": {
        "id": "AswJZyVex1vR"
      }
    },
    {
      "cell_type": "markdown",
      "metadata": {
        "id": "gtWMSVedwFLk"
      },
      "source": [
        "* XGBoost 버전 확인"
      ]
    },
    {
      "cell_type": "code",
      "execution_count": null,
      "metadata": {
        "id": "22vtQApRwFLm"
      },
      "outputs": [],
      "source": [
        "#conda install -c anaconda py-xgboost"
      ]
    },
    {
      "cell_type": "code",
      "execution_count": 1,
      "metadata": {
        "colab": {
          "base_uri": "https://localhost:8080/"
        },
        "id": "LLCbZbpMwFLn",
        "outputId": "c52f0049-f02a-43a4-c3ab-57cb0f352432"
      },
      "outputs": [
        {
          "output_type": "stream",
          "name": "stdout",
          "text": [
            "0.90\n"
          ]
        }
      ],
      "source": [
        "import xgboost\n",
        "\n",
        "print(xgboost.__version__)"
      ]
    },
    {
      "cell_type": "markdown",
      "metadata": {
        "id": "R71pK8c7wFLo"
      },
      "source": [
        "### 파이썬 Native XGBoost 적용 – 위스콘신 Breast Cancer 데이터 셋"
      ]
    },
    {
      "cell_type": "markdown",
      "metadata": {
        "id": "YRLH7dmkwFLp"
      },
      "source": [
        "**데이터 세트 로딩 하기**"
      ]
    },
    {
      "cell_type": "code",
      "execution_count": 2,
      "metadata": {
        "colab": {
          "base_uri": "https://localhost:8080/",
          "height": 271
        },
        "id": "VsZ9rgM3wFLp",
        "outputId": "66eee793-790b-489c-c080-ee0b9ae97e13"
      },
      "outputs": [
        {
          "output_type": "execute_result",
          "data": {
            "text/plain": [
              "   mean radius  mean texture  mean perimeter  mean area  mean smoothness  \\\n",
              "0        17.99         10.38           122.8     1001.0          0.11840   \n",
              "1        20.57         17.77           132.9     1326.0          0.08474   \n",
              "2        19.69         21.25           130.0     1203.0          0.10960   \n",
              "\n",
              "   mean compactness  mean concavity  mean concave points  mean symmetry  \\\n",
              "0           0.27760          0.3001              0.14710         0.2419   \n",
              "1           0.07864          0.0869              0.07017         0.1812   \n",
              "2           0.15990          0.1974              0.12790         0.2069   \n",
              "\n",
              "   mean fractal dimension  ...  worst texture  worst perimeter  worst area  \\\n",
              "0                 0.07871  ...          17.33            184.6      2019.0   \n",
              "1                 0.05667  ...          23.41            158.8      1956.0   \n",
              "2                 0.05999  ...          25.53            152.5      1709.0   \n",
              "\n",
              "   worst smoothness  worst compactness  worst concavity  worst concave points  \\\n",
              "0            0.1622             0.6656           0.7119                0.2654   \n",
              "1            0.1238             0.1866           0.2416                0.1860   \n",
              "2            0.1444             0.4245           0.4504                0.2430   \n",
              "\n",
              "   worst symmetry  worst fractal dimension  target  \n",
              "0          0.4601                  0.11890       0  \n",
              "1          0.2750                  0.08902       0  \n",
              "2          0.3613                  0.08758       0  \n",
              "\n",
              "[3 rows x 31 columns]"
            ],
            "text/html": [
              "\n",
              "  <div id=\"df-4a94c020-e2b8-4a69-8ec0-51a3c55fc383\">\n",
              "    <div class=\"colab-df-container\">\n",
              "      <div>\n",
              "<style scoped>\n",
              "    .dataframe tbody tr th:only-of-type {\n",
              "        vertical-align: middle;\n",
              "    }\n",
              "\n",
              "    .dataframe tbody tr th {\n",
              "        vertical-align: top;\n",
              "    }\n",
              "\n",
              "    .dataframe thead th {\n",
              "        text-align: right;\n",
              "    }\n",
              "</style>\n",
              "<table border=\"1\" class=\"dataframe\">\n",
              "  <thead>\n",
              "    <tr style=\"text-align: right;\">\n",
              "      <th></th>\n",
              "      <th>mean radius</th>\n",
              "      <th>mean texture</th>\n",
              "      <th>mean perimeter</th>\n",
              "      <th>mean area</th>\n",
              "      <th>mean smoothness</th>\n",
              "      <th>mean compactness</th>\n",
              "      <th>mean concavity</th>\n",
              "      <th>mean concave points</th>\n",
              "      <th>mean symmetry</th>\n",
              "      <th>mean fractal dimension</th>\n",
              "      <th>...</th>\n",
              "      <th>worst texture</th>\n",
              "      <th>worst perimeter</th>\n",
              "      <th>worst area</th>\n",
              "      <th>worst smoothness</th>\n",
              "      <th>worst compactness</th>\n",
              "      <th>worst concavity</th>\n",
              "      <th>worst concave points</th>\n",
              "      <th>worst symmetry</th>\n",
              "      <th>worst fractal dimension</th>\n",
              "      <th>target</th>\n",
              "    </tr>\n",
              "  </thead>\n",
              "  <tbody>\n",
              "    <tr>\n",
              "      <th>0</th>\n",
              "      <td>17.99</td>\n",
              "      <td>10.38</td>\n",
              "      <td>122.8</td>\n",
              "      <td>1001.0</td>\n",
              "      <td>0.11840</td>\n",
              "      <td>0.27760</td>\n",
              "      <td>0.3001</td>\n",
              "      <td>0.14710</td>\n",
              "      <td>0.2419</td>\n",
              "      <td>0.07871</td>\n",
              "      <td>...</td>\n",
              "      <td>17.33</td>\n",
              "      <td>184.6</td>\n",
              "      <td>2019.0</td>\n",
              "      <td>0.1622</td>\n",
              "      <td>0.6656</td>\n",
              "      <td>0.7119</td>\n",
              "      <td>0.2654</td>\n",
              "      <td>0.4601</td>\n",
              "      <td>0.11890</td>\n",
              "      <td>0</td>\n",
              "    </tr>\n",
              "    <tr>\n",
              "      <th>1</th>\n",
              "      <td>20.57</td>\n",
              "      <td>17.77</td>\n",
              "      <td>132.9</td>\n",
              "      <td>1326.0</td>\n",
              "      <td>0.08474</td>\n",
              "      <td>0.07864</td>\n",
              "      <td>0.0869</td>\n",
              "      <td>0.07017</td>\n",
              "      <td>0.1812</td>\n",
              "      <td>0.05667</td>\n",
              "      <td>...</td>\n",
              "      <td>23.41</td>\n",
              "      <td>158.8</td>\n",
              "      <td>1956.0</td>\n",
              "      <td>0.1238</td>\n",
              "      <td>0.1866</td>\n",
              "      <td>0.2416</td>\n",
              "      <td>0.1860</td>\n",
              "      <td>0.2750</td>\n",
              "      <td>0.08902</td>\n",
              "      <td>0</td>\n",
              "    </tr>\n",
              "    <tr>\n",
              "      <th>2</th>\n",
              "      <td>19.69</td>\n",
              "      <td>21.25</td>\n",
              "      <td>130.0</td>\n",
              "      <td>1203.0</td>\n",
              "      <td>0.10960</td>\n",
              "      <td>0.15990</td>\n",
              "      <td>0.1974</td>\n",
              "      <td>0.12790</td>\n",
              "      <td>0.2069</td>\n",
              "      <td>0.05999</td>\n",
              "      <td>...</td>\n",
              "      <td>25.53</td>\n",
              "      <td>152.5</td>\n",
              "      <td>1709.0</td>\n",
              "      <td>0.1444</td>\n",
              "      <td>0.4245</td>\n",
              "      <td>0.4504</td>\n",
              "      <td>0.2430</td>\n",
              "      <td>0.3613</td>\n",
              "      <td>0.08758</td>\n",
              "      <td>0</td>\n",
              "    </tr>\n",
              "  </tbody>\n",
              "</table>\n",
              "<p>3 rows × 31 columns</p>\n",
              "</div>\n",
              "      <button class=\"colab-df-convert\" onclick=\"convertToInteractive('df-4a94c020-e2b8-4a69-8ec0-51a3c55fc383')\"\n",
              "              title=\"Convert this dataframe to an interactive table.\"\n",
              "              style=\"display:none;\">\n",
              "        \n",
              "  <svg xmlns=\"http://www.w3.org/2000/svg\" height=\"24px\"viewBox=\"0 0 24 24\"\n",
              "       width=\"24px\">\n",
              "    <path d=\"M0 0h24v24H0V0z\" fill=\"none\"/>\n",
              "    <path d=\"M18.56 5.44l.94 2.06.94-2.06 2.06-.94-2.06-.94-.94-2.06-.94 2.06-2.06.94zm-11 1L8.5 8.5l.94-2.06 2.06-.94-2.06-.94L8.5 2.5l-.94 2.06-2.06.94zm10 10l.94 2.06.94-2.06 2.06-.94-2.06-.94-.94-2.06-.94 2.06-2.06.94z\"/><path d=\"M17.41 7.96l-1.37-1.37c-.4-.4-.92-.59-1.43-.59-.52 0-1.04.2-1.43.59L10.3 9.45l-7.72 7.72c-.78.78-.78 2.05 0 2.83L4 21.41c.39.39.9.59 1.41.59.51 0 1.02-.2 1.41-.59l7.78-7.78 2.81-2.81c.8-.78.8-2.07 0-2.86zM5.41 20L4 18.59l7.72-7.72 1.47 1.35L5.41 20z\"/>\n",
              "  </svg>\n",
              "      </button>\n",
              "      \n",
              "  <style>\n",
              "    .colab-df-container {\n",
              "      display:flex;\n",
              "      flex-wrap:wrap;\n",
              "      gap: 12px;\n",
              "    }\n",
              "\n",
              "    .colab-df-convert {\n",
              "      background-color: #E8F0FE;\n",
              "      border: none;\n",
              "      border-radius: 50%;\n",
              "      cursor: pointer;\n",
              "      display: none;\n",
              "      fill: #1967D2;\n",
              "      height: 32px;\n",
              "      padding: 0 0 0 0;\n",
              "      width: 32px;\n",
              "    }\n",
              "\n",
              "    .colab-df-convert:hover {\n",
              "      background-color: #E2EBFA;\n",
              "      box-shadow: 0px 1px 2px rgba(60, 64, 67, 0.3), 0px 1px 3px 1px rgba(60, 64, 67, 0.15);\n",
              "      fill: #174EA6;\n",
              "    }\n",
              "\n",
              "    [theme=dark] .colab-df-convert {\n",
              "      background-color: #3B4455;\n",
              "      fill: #D2E3FC;\n",
              "    }\n",
              "\n",
              "    [theme=dark] .colab-df-convert:hover {\n",
              "      background-color: #434B5C;\n",
              "      box-shadow: 0px 1px 3px 1px rgba(0, 0, 0, 0.15);\n",
              "      filter: drop-shadow(0px 1px 2px rgba(0, 0, 0, 0.3));\n",
              "      fill: #FFFFFF;\n",
              "    }\n",
              "  </style>\n",
              "\n",
              "      <script>\n",
              "        const buttonEl =\n",
              "          document.querySelector('#df-4a94c020-e2b8-4a69-8ec0-51a3c55fc383 button.colab-df-convert');\n",
              "        buttonEl.style.display =\n",
              "          google.colab.kernel.accessAllowed ? 'block' : 'none';\n",
              "\n",
              "        async function convertToInteractive(key) {\n",
              "          const element = document.querySelector('#df-4a94c020-e2b8-4a69-8ec0-51a3c55fc383');\n",
              "          const dataTable =\n",
              "            await google.colab.kernel.invokeFunction('convertToInteractive',\n",
              "                                                     [key], {});\n",
              "          if (!dataTable) return;\n",
              "\n",
              "          const docLinkHtml = 'Like what you see? Visit the ' +\n",
              "            '<a target=\"_blank\" href=https://colab.research.google.com/notebooks/data_table.ipynb>data table notebook</a>'\n",
              "            + ' to learn more about interactive tables.';\n",
              "          element.innerHTML = '';\n",
              "          dataTable['output_type'] = 'display_data';\n",
              "          await google.colab.output.renderOutput(dataTable, element);\n",
              "          const docLink = document.createElement('div');\n",
              "          docLink.innerHTML = docLinkHtml;\n",
              "          element.appendChild(docLink);\n",
              "        }\n",
              "      </script>\n",
              "    </div>\n",
              "  </div>\n",
              "  "
            ]
          },
          "metadata": {},
          "execution_count": 2
        }
      ],
      "source": [
        "import pandas as pd\n",
        "import numpy as np\n",
        "from sklearn.datasets import load_breast_cancer\n",
        "from sklearn.model_selection import train_test_split\n",
        "# xgboost 패키지 로딩하기\n",
        "import xgboost as xgb\n",
        "from xgboost import plot_importance\n",
        "\n",
        "import warnings\n",
        "warnings.filterwarnings('ignore')\n",
        "\n",
        "dataset = load_breast_cancer()\n",
        "features= dataset.data\n",
        "labels = dataset.target\n",
        "\n",
        "cancer_df = pd.DataFrame(data=features, columns=dataset.feature_names)\n",
        "cancer_df['target']= labels\n",
        "cancer_df.head(3)\n"
      ]
    },
    {
      "cell_type": "code",
      "execution_count": 3,
      "metadata": {
        "colab": {
          "base_uri": "https://localhost:8080/"
        },
        "id": "hsX64kIAwFLp",
        "outputId": "aba4ec5b-40e6-478c-a924-e9e4a16dc24f"
      },
      "outputs": [
        {
          "output_type": "stream",
          "name": "stdout",
          "text": [
            "['malignant' 'benign']\n",
            "1    357\n",
            "0    212\n",
            "Name: target, dtype: int64\n"
          ]
        }
      ],
      "source": [
        "print(dataset.target_names)\n",
        "print(cancer_df['target'].value_counts())"
      ]
    },
    {
      "cell_type": "code",
      "execution_count": 4,
      "metadata": {
        "colab": {
          "base_uri": "https://localhost:8080/"
        },
        "id": "l8-alepAwFLq",
        "outputId": "3356f192-8eed-49c2-b46a-ec438a8ba221"
      },
      "outputs": [
        {
          "output_type": "stream",
          "name": "stdout",
          "text": [
            "(455, 30) (114, 30)\n",
            "(409, 30) (46, 30)\n"
          ]
        }
      ],
      "source": [
        "# cancer_df에서 feature용 DataFrame과 Label용 Series 객체 추출\n",
        "# 맨 마지막 칼럼이 Label이므로 Feature용 DataFrame은 cancer_df의 첫번째 칼럼에서 맨 마지막 두번째 컬럼까지를 :-1 슬라이싱으로 추출.\n",
        "X_features = cancer_df.iloc[:, :-1]\n",
        "y_label = cancer_df.iloc[:, -1]\n",
        "\n",
        "# 전체 데이터 중 80%는 학습용 데이터, 20%는 테스트용 데이터 추출\n",
        "X_train, X_test, y_train, y_test=train_test_split(X_features, y_label, test_size=0.2, random_state=156 )\n",
        "\n",
        "# 위에서 만든 X_train, y_train을 다시 쪼개서 90%는 학습과 10%는 검증용 데이터로 분리 \n",
        "X_tr, X_val, y_tr, y_val= train_test_split(X_train, y_train, test_size=0.1, random_state=156 )\n",
        "\n",
        "print(X_train.shape , X_test.shape)\n",
        "print(X_tr.shape, X_val.shape)"
      ]
    },
    {
      "cell_type": "markdown",
      "metadata": {
        "id": "IC93sVYNwFLr"
      },
      "source": [
        "**학습과 예측 데이터 세트를 DMatrix로 변환**\n",
        "* DMatrix는 넘파이 array, DataFrame에서도 변환 가능"
      ]
    },
    {
      "cell_type": "code",
      "execution_count": 5,
      "metadata": {
        "id": "C7BivDr9wFLr"
      },
      "outputs": [],
      "source": [
        "# 만약 구버전 XGBoost에서 DataFrame으로 DMatrix 생성이 안될 경우 X_train.values로 넘파이 변환. \n",
        "# 학습, 검증, 테스트용 DMatrix를 생성. \n",
        "dtr = xgb.DMatrix(data=X_tr, label=y_tr)\n",
        "dval = xgb.DMatrix(data=X_val, label=y_val)\n",
        "dtest = xgb.DMatrix(data=X_test , label=y_test)"
      ]
    },
    {
      "cell_type": "markdown",
      "metadata": {
        "id": "EyGS4R86wFLr"
      },
      "source": [
        "**하이퍼 파라미터 설정**"
      ]
    },
    {
      "cell_type": "code",
      "execution_count": 6,
      "metadata": {
        "id": "HdiSzLLWwFLs"
      },
      "outputs": [],
      "source": [
        "params = { 'max_depth':3,\n",
        "           'eta': 0.05,\n",
        "           'objective':'binary:logistic',\n",
        "           'eval_metric':'logloss'\n",
        "        }\n",
        "num_rounds = 400"
      ]
    },
    {
      "cell_type": "markdown",
      "metadata": {
        "id": "WG8P45pRwFLs"
      },
      "source": [
        "**주어진 하이퍼 파라미터와 early stopping 파라미터를 train( ) 함수의 파라미터로 전달하고 학습**"
      ]
    },
    {
      "cell_type": "code",
      "execution_count": 7,
      "metadata": {
        "colab": {
          "base_uri": "https://localhost:8080/"
        },
        "id": "lsryxlBIwFLs",
        "outputId": "59887447-b6ad-473e-e7d6-92dde374b325"
      },
      "outputs": [
        {
          "output_type": "stream",
          "name": "stdout",
          "text": [
            "[0]\ttrain-logloss:0.650163\teval-logloss:0.661831\n",
            "Multiple eval metrics have been passed: 'eval-logloss' will be used for early stopping.\n",
            "\n",
            "Will train until eval-logloss hasn't improved in 50 rounds.\n",
            "[1]\ttrain-logloss:0.611313\teval-logloss:0.636086\n",
            "[2]\ttrain-logloss:0.575629\teval-logloss:0.611436\n",
            "[3]\ttrain-logloss:0.543102\teval-logloss:0.592036\n",
            "[4]\ttrain-logloss:0.513233\teval-logloss:0.573291\n",
            "[5]\ttrain-logloss:0.484475\teval-logloss:0.550371\n",
            "[6]\ttrain-logloss:0.457959\teval-logloss:0.529295\n",
            "[7]\ttrain-logloss:0.434357\teval-logloss:0.51534\n",
            "[8]\ttrain-logloss:0.411503\teval-logloss:0.497179\n",
            "[9]\ttrain-logloss:0.390274\teval-logloss:0.481542\n",
            "[10]\ttrain-logloss:0.371284\teval-logloss:0.469904\n",
            "[11]\ttrain-logloss:0.352541\teval-logloss:0.45474\n",
            "[12]\ttrain-logloss:0.335277\teval-logloss:0.442294\n",
            "[13]\ttrain-logloss:0.318925\teval-logloss:0.429608\n",
            "[14]\ttrain-logloss:0.304394\teval-logloss:0.42065\n",
            "[15]\ttrain-logloss:0.289996\teval-logloss:0.409577\n",
            "[16]\ttrain-logloss:0.276514\teval-logloss:0.398867\n",
            "[17]\ttrain-logloss:0.263894\teval-logloss:0.390504\n",
            "[18]\ttrain-logloss:0.252102\teval-logloss:0.382539\n",
            "[19]\ttrain-logloss:0.24123\teval-logloss:0.373933\n",
            "[20]\ttrain-logloss:0.230763\teval-logloss:0.367887\n",
            "[21]\ttrain-logloss:0.220913\teval-logloss:0.360174\n",
            "[22]\ttrain-logloss:0.211554\teval-logloss:0.354212\n",
            "[23]\ttrain-logloss:0.20263\teval-logloss:0.346828\n",
            "[24]\ttrain-logloss:0.19434\teval-logloss:0.341107\n",
            "[25]\ttrain-logloss:0.186369\teval-logloss:0.336341\n",
            "[26]\ttrain-logloss:0.178749\teval-logloss:0.330823\n",
            "[27]\ttrain-logloss:0.171671\teval-logloss:0.326745\n",
            "[28]\ttrain-logloss:0.164815\teval-logloss:0.32099\n",
            "[29]\ttrain-logloss:0.158348\teval-logloss:0.316706\n",
            "[30]\ttrain-logloss:0.152249\teval-logloss:0.312766\n",
            "[31]\ttrain-logloss:0.146498\teval-logloss:0.308823\n",
            "[32]\ttrain-logloss:0.141022\teval-logloss:0.304374\n",
            "[33]\ttrain-logloss:0.135903\teval-logloss:0.301034\n",
            "[34]\ttrain-logloss:0.131089\teval-logloss:0.297937\n",
            "[35]\ttrain-logloss:0.126469\teval-logloss:0.294994\n",
            "[36]\ttrain-logloss:0.121972\teval-logloss:0.292951\n",
            "[37]\ttrain-logloss:0.117843\teval-logloss:0.290434\n",
            "[38]\ttrain-logloss:0.113793\teval-logloss:0.289272\n",
            "[39]\ttrain-logloss:0.109943\teval-logloss:0.285777\n",
            "[40]\ttrain-logloss:0.106376\teval-logloss:0.283644\n",
            "[41]\ttrain-logloss:0.103022\teval-logloss:0.281831\n",
            "[42]\ttrain-logloss:0.099625\teval-logloss:0.280047\n",
            "[43]\ttrain-logloss:0.096486\teval-logloss:0.279718\n",
            "[44]\ttrain-logloss:0.093594\teval-logloss:0.277438\n",
            "[45]\ttrain-logloss:0.090803\teval-logloss:0.275416\n",
            "[46]\ttrain-logloss:0.088072\teval-logloss:0.275038\n",
            "[47]\ttrain-logloss:0.085411\teval-logloss:0.274579\n",
            "[48]\ttrain-logloss:0.082988\teval-logloss:0.273483\n",
            "[49]\ttrain-logloss:0.080349\teval-logloss:0.272474\n",
            "[50]\ttrain-logloss:0.077858\teval-logloss:0.271628\n",
            "[51]\ttrain-logloss:0.075504\teval-logloss:0.270936\n",
            "[52]\ttrain-logloss:0.073438\teval-logloss:0.26967\n",
            "[53]\ttrain-logloss:0.071468\teval-logloss:0.270078\n",
            "[54]\ttrain-logloss:0.069642\teval-logloss:0.268902\n",
            "[55]\ttrain-logloss:0.067661\teval-logloss:0.268544\n",
            "[56]\ttrain-logloss:0.065915\teval-logloss:0.268998\n",
            "[57]\ttrain-logloss:0.064327\teval-logloss:0.267897\n",
            "[58]\ttrain-logloss:0.062588\teval-logloss:0.266633\n",
            "[59]\ttrain-logloss:0.061074\teval-logloss:0.267428\n",
            "[60]\ttrain-logloss:0.05957\teval-logloss:0.266097\n",
            "[61]\ttrain-logloss:0.058166\teval-logloss:0.266438\n",
            "[62]\ttrain-logloss:0.056912\teval-logloss:0.26673\n",
            "[63]\ttrain-logloss:0.055498\teval-logloss:0.265499\n",
            "[64]\ttrain-logloss:0.054219\teval-logloss:0.26443\n",
            "[65]\ttrain-logloss:0.053109\teval-logloss:0.265004\n",
            "[66]\ttrain-logloss:0.05207\teval-logloss:0.265905\n",
            "[67]\ttrain-logloss:0.050929\teval-logloss:0.265012\n",
            "[68]\ttrain-logloss:0.04976\teval-logloss:0.264348\n",
            "[69]\ttrain-logloss:0.048717\teval-logloss:0.263599\n",
            "[70]\ttrain-logloss:0.047764\teval-logloss:0.263186\n",
            "[71]\ttrain-logloss:0.046802\teval-logloss:0.262547\n",
            "[72]\ttrain-logloss:0.0458\teval-logloss:0.26204\n",
            "[73]\ttrain-logloss:0.044838\teval-logloss:0.262537\n",
            "[74]\ttrain-logloss:0.043883\teval-logloss:0.262887\n",
            "[75]\ttrain-logloss:0.043086\teval-logloss:0.262487\n",
            "[76]\ttrain-logloss:0.042236\teval-logloss:0.262175\n",
            "[77]\ttrain-logloss:0.04133\teval-logloss:0.261664\n",
            "[78]\ttrain-logloss:0.0405\teval-logloss:0.26179\n",
            "[79]\ttrain-logloss:0.039667\teval-logloss:0.261034\n",
            "[80]\ttrain-logloss:0.038765\teval-logloss:0.260937\n",
            "[81]\ttrain-logloss:0.038064\teval-logloss:0.261483\n",
            "[82]\ttrain-logloss:0.037396\teval-logloss:0.260539\n",
            "[83]\ttrain-logloss:0.036763\teval-logloss:0.259672\n",
            "[84]\ttrain-logloss:0.036052\teval-logloss:0.259053\n",
            "[85]\ttrain-logloss:0.035453\teval-logloss:0.260073\n",
            "[86]\ttrain-logloss:0.034885\teval-logloss:0.259836\n",
            "[87]\ttrain-logloss:0.03425\teval-logloss:0.259332\n",
            "[88]\ttrain-logloss:0.033608\teval-logloss:0.259319\n",
            "[89]\ttrain-logloss:0.033107\teval-logloss:0.260023\n",
            "[90]\ttrain-logloss:0.0326\teval-logloss:0.25936\n",
            "[91]\ttrain-logloss:0.032016\teval-logloss:0.258861\n",
            "[92]\ttrain-logloss:0.031522\teval-logloss:0.259177\n",
            "[93]\ttrain-logloss:0.031067\teval-logloss:0.258645\n",
            "[94]\ttrain-logloss:0.030485\teval-logloss:0.259511\n",
            "[95]\ttrain-logloss:0.030072\teval-logloss:0.260911\n",
            "[96]\ttrain-logloss:0.029626\teval-logloss:0.260142\n",
            "[97]\ttrain-logloss:0.029131\teval-logloss:0.25974\n",
            "[98]\ttrain-logloss:0.02866\teval-logloss:0.259371\n",
            "[99]\ttrain-logloss:0.028285\teval-logloss:0.258932\n",
            "[100]\ttrain-logloss:0.027886\teval-logloss:0.259282\n",
            "[101]\ttrain-logloss:0.027512\teval-logloss:0.259552\n",
            "[102]\ttrain-logloss:0.027137\teval-logloss:0.259006\n",
            "[103]\ttrain-logloss:0.026676\teval-logloss:0.259906\n",
            "[104]\ttrain-logloss:0.026343\teval-logloss:0.259499\n",
            "[105]\ttrain-logloss:0.025943\teval-logloss:0.25924\n",
            "[106]\ttrain-logloss:0.025561\teval-logloss:0.259006\n",
            "[107]\ttrain-logloss:0.025219\teval-logloss:0.257375\n",
            "[108]\ttrain-logloss:0.024916\teval-logloss:0.257017\n",
            "[109]\ttrain-logloss:0.024525\teval-logloss:0.257891\n",
            "[110]\ttrain-logloss:0.02418\teval-logloss:0.257703\n",
            "[111]\ttrain-logloss:0.023838\teval-logloss:0.25842\n",
            "[112]\ttrain-logloss:0.023563\teval-logloss:0.2581\n",
            "[113]\ttrain-logloss:0.023219\teval-logloss:0.258476\n",
            "[114]\ttrain-logloss:0.022903\teval-logloss:0.258327\n",
            "[115]\ttrain-logloss:0.022602\teval-logloss:0.258196\n",
            "[116]\ttrain-logloss:0.022286\teval-logloss:0.259054\n",
            "[117]\ttrain-logloss:0.022039\teval-logloss:0.258778\n",
            "[118]\ttrain-logloss:0.021756\teval-logloss:0.25728\n",
            "[119]\ttrain-logloss:0.021492\teval-logloss:0.257225\n",
            "[120]\ttrain-logloss:0.021194\teval-logloss:0.257639\n",
            "[121]\ttrain-logloss:0.020948\teval-logloss:0.25761\n",
            "[122]\ttrain-logloss:0.020666\teval-logloss:0.258319\n",
            "[123]\ttrain-logloss:0.020448\teval-logloss:0.25808\n",
            "[124]\ttrain-logloss:0.020231\teval-logloss:0.25855\n",
            "[125]\ttrain-logloss:0.019979\teval-logloss:0.257135\n",
            "[126]\ttrain-logloss:0.019728\teval-logloss:0.255869\n",
            "[127]\ttrain-logloss:0.019465\teval-logloss:0.256403\n",
            "[128]\ttrain-logloss:0.019271\teval-logloss:0.256846\n",
            "[129]\ttrain-logloss:0.019079\teval-logloss:0.256648\n",
            "[130]\ttrain-logloss:0.018855\teval-logloss:0.257117\n",
            "[131]\ttrain-logloss:0.018634\teval-logloss:0.256086\n",
            "[132]\ttrain-logloss:0.018388\teval-logloss:0.256486\n",
            "[133]\ttrain-logloss:0.018156\teval-logloss:0.257893\n",
            "[134]\ttrain-logloss:0.018016\teval-logloss:0.258114\n",
            "[135]\ttrain-logloss:0.017846\teval-logloss:0.257936\n",
            "[136]\ttrain-logloss:0.017628\teval-logloss:0.258756\n",
            "[137]\ttrain-logloss:0.01748\teval-logloss:0.258839\n",
            "[138]\ttrain-logloss:0.017322\teval-logloss:0.258673\n",
            "[139]\ttrain-logloss:0.017188\teval-logloss:0.258756\n",
            "[140]\ttrain-logloss:0.016962\teval-logloss:0.259871\n",
            "[141]\ttrain-logloss:0.016808\teval-logloss:0.259601\n",
            "[142]\ttrain-logloss:0.016689\teval-logloss:0.259824\n",
            "[143]\ttrain-logloss:0.016565\teval-logloss:0.259922\n",
            "[144]\ttrain-logloss:0.016383\teval-logloss:0.260348\n",
            "[145]\ttrain-logloss:0.016227\teval-logloss:0.260546\n",
            "[146]\ttrain-logloss:0.016061\teval-logloss:0.260917\n",
            "[147]\ttrain-logloss:0.015892\teval-logloss:0.26137\n",
            "[148]\ttrain-logloss:0.015719\teval-logloss:0.259991\n",
            "[149]\ttrain-logloss:0.015565\teval-logloss:0.260284\n",
            "[150]\ttrain-logloss:0.015457\teval-logloss:0.260479\n",
            "[151]\ttrain-logloss:0.015307\teval-logloss:0.261421\n",
            "[152]\ttrain-logloss:0.015151\teval-logloss:0.261877\n",
            "[153]\ttrain-logloss:0.015006\teval-logloss:0.262274\n",
            "[154]\ttrain-logloss:0.01486\teval-logloss:0.262866\n",
            "[155]\ttrain-logloss:0.014759\teval-logloss:0.262988\n",
            "[156]\ttrain-logloss:0.014615\teval-logloss:0.263459\n",
            "[157]\ttrain-logloss:0.014481\teval-logloss:0.263786\n",
            "[158]\ttrain-logloss:0.014336\teval-logloss:0.263057\n",
            "[159]\ttrain-logloss:0.014243\teval-logloss:0.262369\n",
            "[160]\ttrain-logloss:0.014103\teval-logloss:0.262511\n",
            "[161]\ttrain-logloss:0.014009\teval-logloss:0.262647\n",
            "[162]\ttrain-logloss:0.013918\teval-logloss:0.262639\n",
            "[163]\ttrain-logloss:0.013805\teval-logloss:0.262501\n",
            "[164]\ttrain-logloss:0.013717\teval-logloss:0.262639\n",
            "[165]\ttrain-logloss:0.013587\teval-logloss:0.262551\n",
            "[166]\ttrain-logloss:0.013503\teval-logloss:0.261884\n",
            "[167]\ttrain-logloss:0.013417\teval-logloss:0.262026\n",
            "[168]\ttrain-logloss:0.013312\teval-logloss:0.261898\n",
            "[169]\ttrain-logloss:0.013192\teval-logloss:0.26184\n",
            "[170]\ttrain-logloss:0.013124\teval-logloss:0.261331\n",
            "[171]\ttrain-logloss:0.013044\teval-logloss:0.261479\n",
            "[172]\ttrain-logloss:0.01297\teval-logloss:0.26157\n",
            "[173]\ttrain-logloss:0.012846\teval-logloss:0.262534\n",
            "[174]\ttrain-logloss:0.012777\teval-logloss:0.26229\n",
            "[175]\ttrain-logloss:0.012668\teval-logloss:0.260863\n",
            "[176]\ttrain-logloss:0.012581\teval-logloss:0.261032\n",
            "Stopping. Best iteration:\n",
            "[126]\ttrain-logloss:0.019728\teval-logloss:0.255869\n",
            "\n"
          ]
        }
      ],
      "source": [
        "# 학습 데이터 셋은 'train' 또는 평가 데이터 셋은 'eval' 로 명기합니다. \n",
        "eval_list = [(dtr,'train'),(dval,'eval')] # 또는 eval_list = [(dval,'eval')] 만 명기해도 무방. \n",
        "\n",
        "# 하이퍼 파라미터와 early stopping 파라미터를 train( ) 함수의 파라미터로 전달\n",
        "xgb_model = xgb.train(params = params , dtrain=dtr , num_boost_round=num_rounds , \\\n",
        "                      early_stopping_rounds=50, evals=eval_list )"
      ]
    },
    {
      "cell_type": "markdown",
      "metadata": {
        "id": "UlzmjKccwFLs"
      },
      "source": [
        "**predict()를 통해 예측 확률값을 반환하고 예측 값으로 변환**"
      ]
    },
    {
      "cell_type": "code",
      "execution_count": 8,
      "metadata": {
        "colab": {
          "base_uri": "https://localhost:8080/"
        },
        "id": "VfNo750ywFLs",
        "outputId": "dae4f2c8-5442-49c9-bbf6-ab42f694e3fa"
      },
      "outputs": [
        {
          "output_type": "stream",
          "name": "stdout",
          "text": [
            "predict( ) 수행 결과값을 10개만 표시, 예측 확률 값으로 표시됨\n",
            "[0.845 0.008 0.68  0.081 0.975 0.999 0.998 0.998 0.996 0.001]\n",
            "예측값 10개만 표시: [1, 0, 1, 0, 1, 1, 1, 1, 1, 0]\n"
          ]
        }
      ],
      "source": [
        "pred_probs = xgb_model.predict(dtest)\n",
        "print('predict( ) 수행 결과값을 10개만 표시, 예측 확률 값으로 표시됨')\n",
        "print(np.round(pred_probs[:10],3))\n",
        "\n",
        "# 예측 확률이 0.5 보다 크면 1 , 그렇지 않으면 0 으로 예측값 결정하여 List 객체인 preds에 저장 \n",
        "preds = [ 1 if x > 0.5 else 0 for x in pred_probs ]\n",
        "print('예측값 10개만 표시:',preds[:10])"
      ]
    },
    {
      "cell_type": "code",
      "execution_count": 9,
      "metadata": {
        "colab": {
          "base_uri": "https://localhost:8080/"
        },
        "id": "dZkReOXYwFLt",
        "outputId": "473ccbdd-874e-4fab-f34b-16bf7be757fa"
      },
      "outputs": [
        {
          "output_type": "execute_result",
          "data": {
            "text/plain": [
              "array([0.8447872 , 0.00842587, 0.6796298 , 0.08113331, 0.9751338 ,\n",
              "       0.9988939 , 0.9983084 , 0.9980654 , 0.99637896, 0.00138468,\n",
              "       0.00252283, 0.00154995, 0.99780875, 0.99829525, 0.99691856,\n",
              "       0.9965521 , 0.99120796, 0.9982718 , 0.9970682 , 0.9978916 ,\n",
              "       0.00202923, 0.10774372, 0.00137198, 0.9989255 , 0.00107862,\n",
              "       0.7800014 , 0.00295459, 0.00154995, 0.9966723 , 0.05379276,\n",
              "       0.958738  , 0.00149019, 0.9700533 , 0.8656249 , 0.00678389,\n",
              "       0.00140975, 0.97810876, 0.99713576, 0.24059245, 0.9972307 ,\n",
              "       0.35760084, 0.99708337, 0.9919429 , 0.99659145, 0.9962838 ,\n",
              "       0.9179466 , 0.036952  , 0.997417  , 0.99325067, 0.99804085,\n",
              "       0.99648905, 0.00236221, 0.9979361 , 0.99784875, 0.9960328 ,\n",
              "       0.99391055, 0.9984106 , 0.99635327, 0.9967404 , 0.896291  ,\n",
              "       0.9967794 , 0.9520696 , 0.00349248, 0.00202715, 0.9980167 ,\n",
              "       0.98225844, 0.00349248, 0.99056447, 0.9972249 , 0.9978916 ,\n",
              "       0.00297725, 0.99731344, 0.00163038, 0.98887384, 0.9962419 ,\n",
              "       0.00137198, 0.9985329 , 0.9985329 , 0.99858946, 0.00131184,\n",
              "       0.00139682, 0.93810165, 0.9969139 , 0.99748176, 0.992568  ,\n",
              "       0.9906398 , 0.9914522 , 0.9930942 , 0.9830724 , 0.00137198,\n",
              "       0.19445673, 0.99830306, 0.00650652, 0.00560008, 0.99777275,\n",
              "       0.00793959, 0.02962515, 0.99509096, 0.00236221, 0.78849   ,\n",
              "       0.00614955, 0.00250252, 0.99592257, 0.99598455, 0.6040961 ,\n",
              "       0.9969748 , 0.99688077, 0.8580849 , 0.9966723 , 0.9985133 ,\n",
              "       0.6028515 , 0.97962165, 0.99558735, 0.9978284 ], dtype=float32)"
            ]
          },
          "metadata": {},
          "execution_count": 9
        }
      ],
      "source": [
        "pred_probs"
      ]
    },
    {
      "cell_type": "markdown",
      "metadata": {
        "id": "w02xvGeWwFLt"
      },
      "source": [
        "**get_clf_eval( )을 통해 예측 평가**"
      ]
    },
    {
      "cell_type": "code",
      "execution_count": 10,
      "metadata": {
        "id": "vKYAS9KPwFLt"
      },
      "outputs": [],
      "source": [
        "from sklearn.metrics import confusion_matrix, accuracy_score\n",
        "from sklearn.metrics import precision_score, recall_score\n",
        "from sklearn.metrics import f1_score, roc_auc_score\n",
        "\n",
        "def get_clf_eval(y_test, pred=None, pred_proba=None):\n",
        "    confusion = confusion_matrix( y_test, pred)\n",
        "    accuracy = accuracy_score(y_test , pred)\n",
        "    precision = precision_score(y_test , pred)\n",
        "    recall = recall_score(y_test , pred)\n",
        "    f1 = f1_score(y_test,pred)\n",
        "    # ROC-AUC 추가 \n",
        "    roc_auc = roc_auc_score(y_test, pred_proba)\n",
        "    print('오차 행렬')\n",
        "    print(confusion)\n",
        "    # ROC-AUC print 추가\n",
        "    print('정확도: {0:.4f}, 정밀도: {1:.4f}, 재현율: {2:.4f},\\\n",
        "    F1: {3:.4f}, AUC:{4:.4f}'.format(accuracy, precision, recall, f1, roc_auc))"
      ]
    },
    {
      "cell_type": "code",
      "execution_count": 11,
      "metadata": {
        "colab": {
          "base_uri": "https://localhost:8080/"
        },
        "id": "wVBm3lkEwFLt",
        "outputId": "b0e2ac16-8a88-48e7-bbb1-09ddc2a9582f"
      },
      "outputs": [
        {
          "output_type": "stream",
          "name": "stdout",
          "text": [
            "오차 행렬\n",
            "[[34  3]\n",
            " [ 2 75]]\n",
            "정확도: 0.9561, 정밀도: 0.9615, 재현율: 0.9740,    F1: 0.9677, AUC:0.9937\n"
          ]
        }
      ],
      "source": [
        "get_clf_eval(y_test , preds, pred_probs)"
      ]
    },
    {
      "cell_type": "markdown",
      "metadata": {
        "id": "HSZmFwmXwFLu"
      },
      "source": [
        "**Feature Importance 시각화**"
      ]
    },
    {
      "cell_type": "code",
      "execution_count": 12,
      "metadata": {
        "colab": {
          "base_uri": "https://localhost:8080/",
          "height": 747
        },
        "id": "OaeEwEujwFLu",
        "outputId": "84e62f1d-385a-43e9-dc7b-3efba725032c"
      },
      "outputs": [
        {
          "output_type": "execute_result",
          "data": {
            "text/plain": [
              "<matplotlib.axes._subplots.AxesSubplot at 0x7fe0e1327990>"
            ]
          },
          "metadata": {},
          "execution_count": 12
        },
        {
          "output_type": "display_data",
          "data": {
            "text/plain": [
              "<Figure size 720x864 with 1 Axes>"
            ],
            "image/png": "[encoded data removed]"
          },
          "metadata": {
            "needs_background": "light"
          }
        }
      ],
      "source": [
        "import matplotlib.pyplot as plt\n",
        "%matplotlib inline\n",
        "\n",
        "fig, ax = plt.subplots(figsize=(10, 12))\n",
        "plot_importance(xgb_model, ax=ax)"
      ]
    },
    {
      "cell_type": "markdown",
      "metadata": {
        "id": "PD31h7YqwFLu"
      },
      "source": [
        "### 사이킷런 Wrapper XGBoost 개요 및 적용 "
      ]
    },
    {
      "cell_type": "markdown",
      "metadata": {
        "id": "umbGg5yrwFLu"
      },
      "source": [
        "**사이킷런 래퍼 클래스 임포트, 학습 및 예측**"
      ]
    },
    {
      "cell_type": "code",
      "execution_count": 13,
      "metadata": {
        "id": "1gnbumhmwFLu"
      },
      "outputs": [],
      "source": [
        "# 사이킷런 래퍼 XGBoost 클래스인 XGBClassifier 임포트\n",
        "from xgboost import XGBClassifier\n",
        "\n",
        "# Warning 메시지를 없애기 위해 eval_metric 값을 XGBClassifier 생성 인자로 입력. 미 입력해도 수행에 문제 없음.   \n",
        "xgb_wrapper = XGBClassifier(n_estimators=400, learning_rate=0.05, max_depth=3, eval_metric='logloss')\n",
        "xgb_wrapper.fit(X_train, y_train, verbose=True)\n",
        "w_preds = xgb_wrapper.predict(X_test)\n",
        "w_pred_proba = xgb_wrapper.predict_proba(X_test)[:, 1]"
      ]
    },
    {
      "cell_type": "code",
      "execution_count": 16,
      "metadata": {
        "colab": {
          "base_uri": "https://localhost:8080/"
        },
        "id": "nNE7qLyCwFLv",
        "outputId": "935d97a7-0bd2-49f9-e5da-abae9696e842"
      },
      "outputs": [
        {
          "output_type": "stream",
          "name": "stdout",
          "text": [
            "오차 행렬\n",
            "[[34  3]\n",
            " [ 1 76]]\n",
            "정확도: 0.9649, 정밀도: 0.9620, 재현율: 0.9870,    F1: 0.9744, AUC:0.9954\n"
          ]
        }
      ],
      "source": [
        "get_clf_eval(y_test , w_preds, w_pred_proba)"
      ]
    },
    {
      "cell_type": "markdown",
      "metadata": {
        "id": "zI0BlkYGwFLv"
      },
      "source": [
        "**early stopping을 50으로 설정하고 재 학습/예측/평가**"
      ]
    },
    {
      "cell_type": "code",
      "execution_count": 17,
      "metadata": {
        "colab": {
          "base_uri": "https://localhost:8080/"
        },
        "id": "aNGd1YXbwFLv",
        "outputId": "20e08de8-587a-41c9-e60c-efae0b9ce90f"
      },
      "outputs": [
        {
          "output_type": "stream",
          "name": "stdout",
          "text": [
            "[0]\tvalidation_0-logloss:0.650162\tvalidation_1-logloss:0.661831\n",
            "Multiple eval metrics have been passed: 'validation_1-logloss' will be used for early stopping.\n",
            "\n",
            "Will train until validation_1-logloss hasn't improved in 50 rounds.\n",
            "[1]\tvalidation_0-logloss:0.611314\tvalidation_1-logloss:0.636086\n",
            "[2]\tvalidation_0-logloss:0.57563\tvalidation_1-logloss:0.611436\n",
            "[3]\tvalidation_0-logloss:0.543099\tvalidation_1-logloss:0.592036\n",
            "[4]\tvalidation_0-logloss:0.513234\tvalidation_1-logloss:0.573291\n",
            "[5]\tvalidation_0-logloss:0.484475\tvalidation_1-logloss:0.550371\n",
            "[6]\tvalidation_0-logloss:0.457959\tvalidation_1-logloss:0.529295\n",
            "[7]\tvalidation_0-logloss:0.434357\tvalidation_1-logloss:0.51534\n",
            "[8]\tvalidation_0-logloss:0.411503\tvalidation_1-logloss:0.497179\n",
            "[9]\tvalidation_0-logloss:0.390274\tvalidation_1-logloss:0.481542\n",
            "[10]\tvalidation_0-logloss:0.371284\tvalidation_1-logloss:0.469904\n",
            "[11]\tvalidation_0-logloss:0.352541\tvalidation_1-logloss:0.45474\n",
            "[12]\tvalidation_0-logloss:0.335278\tvalidation_1-logloss:0.442294\n",
            "[13]\tvalidation_0-logloss:0.318925\tvalidation_1-logloss:0.429608\n",
            "[14]\tvalidation_0-logloss:0.304393\tvalidation_1-logloss:0.420649\n",
            "[15]\tvalidation_0-logloss:0.289996\tvalidation_1-logloss:0.409577\n",
            "[16]\tvalidation_0-logloss:0.276513\tvalidation_1-logloss:0.398867\n",
            "[17]\tvalidation_0-logloss:0.263894\tvalidation_1-logloss:0.390504\n",
            "[18]\tvalidation_0-logloss:0.252102\tvalidation_1-logloss:0.382539\n",
            "[19]\tvalidation_0-logloss:0.241231\tvalidation_1-logloss:0.373933\n",
            "[20]\tvalidation_0-logloss:0.230763\tvalidation_1-logloss:0.367887\n",
            "[21]\tvalidation_0-logloss:0.220913\tvalidation_1-logloss:0.360174\n",
            "[22]\tvalidation_0-logloss:0.211555\tvalidation_1-logloss:0.354212\n",
            "[23]\tvalidation_0-logloss:0.20263\tvalidation_1-logloss:0.346828\n",
            "[24]\tvalidation_0-logloss:0.194341\tvalidation_1-logloss:0.341107\n",
            "[25]\tvalidation_0-logloss:0.186369\tvalidation_1-logloss:0.336341\n",
            "[26]\tvalidation_0-logloss:0.178748\tvalidation_1-logloss:0.330823\n",
            "[27]\tvalidation_0-logloss:0.171671\tvalidation_1-logloss:0.326746\n",
            "[28]\tvalidation_0-logloss:0.164814\tvalidation_1-logloss:0.32099\n",
            "[29]\tvalidation_0-logloss:0.158347\tvalidation_1-logloss:0.316706\n",
            "[30]\tvalidation_0-logloss:0.152249\tvalidation_1-logloss:0.312766\n",
            "[31]\tvalidation_0-logloss:0.146498\tvalidation_1-logloss:0.308823\n",
            "[32]\tvalidation_0-logloss:0.141021\tvalidation_1-logloss:0.304373\n",
            "[33]\tvalidation_0-logloss:0.135903\tvalidation_1-logloss:0.301034\n",
            "[34]\tvalidation_0-logloss:0.131089\tvalidation_1-logloss:0.297937\n",
            "[35]\tvalidation_0-logloss:0.126469\tvalidation_1-logloss:0.294994\n",
            "[36]\tvalidation_0-logloss:0.121972\tvalidation_1-logloss:0.292951\n",
            "[37]\tvalidation_0-logloss:0.117844\tvalidation_1-logloss:0.290434\n",
            "[38]\tvalidation_0-logloss:0.113793\tvalidation_1-logloss:0.289272\n",
            "[39]\tvalidation_0-logloss:0.109943\tvalidation_1-logloss:0.285777\n",
            "[40]\tvalidation_0-logloss:0.106376\tvalidation_1-logloss:0.283644\n",
            "[41]\tvalidation_0-logloss:0.103022\tvalidation_1-logloss:0.281831\n",
            "[42]\tvalidation_0-logloss:0.099625\tvalidation_1-logloss:0.280047\n",
            "[43]\tvalidation_0-logloss:0.096486\tvalidation_1-logloss:0.279718\n",
            "[44]\tvalidation_0-logloss:0.093594\tvalidation_1-logloss:0.277438\n",
            "[45]\tvalidation_0-logloss:0.090803\tvalidation_1-logloss:0.275416\n",
            "[46]\tvalidation_0-logloss:0.088072\tvalidation_1-logloss:0.275037\n",
            "[47]\tvalidation_0-logloss:0.085411\tvalidation_1-logloss:0.274579\n",
            "[48]\tvalidation_0-logloss:0.082988\tvalidation_1-logloss:0.273483\n",
            "[49]\tvalidation_0-logloss:0.080349\tvalidation_1-logloss:0.272474\n",
            "[50]\tvalidation_0-logloss:0.077857\tvalidation_1-logloss:0.271628\n",
            "[51]\tvalidation_0-logloss:0.075504\tvalidation_1-logloss:0.270936\n",
            "[52]\tvalidation_0-logloss:0.073438\tvalidation_1-logloss:0.26967\n",
            "[53]\tvalidation_0-logloss:0.071468\tvalidation_1-logloss:0.270078\n",
            "[54]\tvalidation_0-logloss:0.069642\tvalidation_1-logloss:0.268902\n",
            "[55]\tvalidation_0-logloss:0.067661\tvalidation_1-logloss:0.268544\n",
            "[56]\tvalidation_0-logloss:0.065915\tvalidation_1-logloss:0.268998\n",
            "[57]\tvalidation_0-logloss:0.064327\tvalidation_1-logloss:0.267897\n",
            "[58]\tvalidation_0-logloss:0.062588\tvalidation_1-logloss:0.266632\n",
            "[59]\tvalidation_0-logloss:0.061074\tvalidation_1-logloss:0.267428\n",
            "[60]\tvalidation_0-logloss:0.05957\tvalidation_1-logloss:0.266097\n",
            "[61]\tvalidation_0-logloss:0.058166\tvalidation_1-logloss:0.266438\n",
            "[62]\tvalidation_0-logloss:0.056912\tvalidation_1-logloss:0.26673\n",
            "[63]\tvalidation_0-logloss:0.055498\tvalidation_1-logloss:0.265499\n",
            "[64]\tvalidation_0-logloss:0.054219\tvalidation_1-logloss:0.26443\n",
            "[65]\tvalidation_0-logloss:0.053109\tvalidation_1-logloss:0.265004\n",
            "[66]\tvalidation_0-logloss:0.05207\tvalidation_1-logloss:0.265905\n",
            "[67]\tvalidation_0-logloss:0.050929\tvalidation_1-logloss:0.265012\n",
            "[68]\tvalidation_0-logloss:0.04976\tvalidation_1-logloss:0.264348\n",
            "[69]\tvalidation_0-logloss:0.048717\tvalidation_1-logloss:0.263599\n",
            "[70]\tvalidation_0-logloss:0.047764\tvalidation_1-logloss:0.263186\n",
            "[71]\tvalidation_0-logloss:0.046802\tvalidation_1-logloss:0.262547\n",
            "[72]\tvalidation_0-logloss:0.0458\tvalidation_1-logloss:0.26204\n",
            "[73]\tvalidation_0-logloss:0.044838\tvalidation_1-logloss:0.262537\n",
            "[74]\tvalidation_0-logloss:0.043883\tvalidation_1-logloss:0.262887\n",
            "[75]\tvalidation_0-logloss:0.043086\tvalidation_1-logloss:0.262487\n",
            "[76]\tvalidation_0-logloss:0.042236\tvalidation_1-logloss:0.262175\n",
            "[77]\tvalidation_0-logloss:0.04133\tvalidation_1-logloss:0.261664\n",
            "[78]\tvalidation_0-logloss:0.0405\tvalidation_1-logloss:0.26179\n",
            "[79]\tvalidation_0-logloss:0.039667\tvalidation_1-logloss:0.261034\n",
            "[80]\tvalidation_0-logloss:0.038765\tvalidation_1-logloss:0.260937\n",
            "[81]\tvalidation_0-logloss:0.038064\tvalidation_1-logloss:0.261483\n",
            "[82]\tvalidation_0-logloss:0.037396\tvalidation_1-logloss:0.260539\n",
            "[83]\tvalidation_0-logloss:0.036763\tvalidation_1-logloss:0.259672\n",
            "[84]\tvalidation_0-logloss:0.036052\tvalidation_1-logloss:0.259053\n",
            "[85]\tvalidation_0-logloss:0.035453\tvalidation_1-logloss:0.260073\n",
            "[86]\tvalidation_0-logloss:0.034885\tvalidation_1-logloss:0.259836\n",
            "[87]\tvalidation_0-logloss:0.03425\tvalidation_1-logloss:0.259332\n",
            "[88]\tvalidation_0-logloss:0.033608\tvalidation_1-logloss:0.259319\n",
            "[89]\tvalidation_0-logloss:0.033107\tvalidation_1-logloss:0.260023\n",
            "[90]\tvalidation_0-logloss:0.0326\tvalidation_1-logloss:0.25936\n",
            "[91]\tvalidation_0-logloss:0.032016\tvalidation_1-logloss:0.258861\n",
            "[92]\tvalidation_0-logloss:0.031522\tvalidation_1-logloss:0.259177\n",
            "[93]\tvalidation_0-logloss:0.031067\tvalidation_1-logloss:0.258645\n",
            "[94]\tvalidation_0-logloss:0.030485\tvalidation_1-logloss:0.259511\n",
            "[95]\tvalidation_0-logloss:0.030072\tvalidation_1-logloss:0.260911\n",
            "[96]\tvalidation_0-logloss:0.029626\tvalidation_1-logloss:0.260142\n",
            "[97]\tvalidation_0-logloss:0.029131\tvalidation_1-logloss:0.25974\n",
            "[98]\tvalidation_0-logloss:0.02866\tvalidation_1-logloss:0.259371\n",
            "[99]\tvalidation_0-logloss:0.028285\tvalidation_1-logloss:0.258932\n",
            "[100]\tvalidation_0-logloss:0.027886\tvalidation_1-logloss:0.259282\n",
            "[101]\tvalidation_0-logloss:0.027512\tvalidation_1-logloss:0.259552\n",
            "[102]\tvalidation_0-logloss:0.027137\tvalidation_1-logloss:0.259006\n",
            "[103]\tvalidation_0-logloss:0.026676\tvalidation_1-logloss:0.259906\n",
            "[104]\tvalidation_0-logloss:0.026343\tvalidation_1-logloss:0.259499\n",
            "[105]\tvalidation_0-logloss:0.025943\tvalidation_1-logloss:0.25924\n",
            "[106]\tvalidation_0-logloss:0.025561\tvalidation_1-logloss:0.259006\n",
            "[107]\tvalidation_0-logloss:0.025219\tvalidation_1-logloss:0.257375\n",
            "[108]\tvalidation_0-logloss:0.024916\tvalidation_1-logloss:0.257017\n",
            "[109]\tvalidation_0-logloss:0.024525\tvalidation_1-logloss:0.257891\n",
            "[110]\tvalidation_0-logloss:0.02418\tvalidation_1-logloss:0.257703\n",
            "[111]\tvalidation_0-logloss:0.023838\tvalidation_1-logloss:0.25842\n",
            "[112]\tvalidation_0-logloss:0.023563\tvalidation_1-logloss:0.2581\n",
            "[113]\tvalidation_0-logloss:0.023219\tvalidation_1-logloss:0.258476\n",
            "[114]\tvalidation_0-logloss:0.022903\tvalidation_1-logloss:0.258327\n",
            "[115]\tvalidation_0-logloss:0.022602\tvalidation_1-logloss:0.258196\n",
            "[116]\tvalidation_0-logloss:0.022286\tvalidation_1-logloss:0.259054\n",
            "[117]\tvalidation_0-logloss:0.022039\tvalidation_1-logloss:0.258778\n",
            "[118]\tvalidation_0-logloss:0.021756\tvalidation_1-logloss:0.25728\n",
            "[119]\tvalidation_0-logloss:0.021492\tvalidation_1-logloss:0.257225\n",
            "[120]\tvalidation_0-logloss:0.021194\tvalidation_1-logloss:0.257639\n",
            "[121]\tvalidation_0-logloss:0.020948\tvalidation_1-logloss:0.25761\n",
            "[122]\tvalidation_0-logloss:0.020666\tvalidation_1-logloss:0.258319\n",
            "[123]\tvalidation_0-logloss:0.020448\tvalidation_1-logloss:0.25808\n",
            "[124]\tvalidation_0-logloss:0.020231\tvalidation_1-logloss:0.25855\n",
            "[125]\tvalidation_0-logloss:0.019979\tvalidation_1-logloss:0.257135\n",
            "[126]\tvalidation_0-logloss:0.019728\tvalidation_1-logloss:0.255869\n",
            "[127]\tvalidation_0-logloss:0.019465\tvalidation_1-logloss:0.256403\n",
            "[128]\tvalidation_0-logloss:0.019271\tvalidation_1-logloss:0.256846\n",
            "[129]\tvalidation_0-logloss:0.019079\tvalidation_1-logloss:0.256648\n",
            "[130]\tvalidation_0-logloss:0.018855\tvalidation_1-logloss:0.257117\n",
            "[131]\tvalidation_0-logloss:0.018634\tvalidation_1-logloss:0.256086\n",
            "[132]\tvalidation_0-logloss:0.018388\tvalidation_1-logloss:0.256486\n",
            "[133]\tvalidation_0-logloss:0.018156\tvalidation_1-logloss:0.257893\n",
            "[134]\tvalidation_0-logloss:0.018016\tvalidation_1-logloss:0.258114\n",
            "[135]\tvalidation_0-logloss:0.017846\tvalidation_1-logloss:0.257936\n",
            "[136]\tvalidation_0-logloss:0.017628\tvalidation_1-logloss:0.258756\n",
            "[137]\tvalidation_0-logloss:0.01748\tvalidation_1-logloss:0.258839\n",
            "[138]\tvalidation_0-logloss:0.017322\tvalidation_1-logloss:0.258673\n",
            "[139]\tvalidation_0-logloss:0.017188\tvalidation_1-logloss:0.258756\n",
            "[140]\tvalidation_0-logloss:0.016962\tvalidation_1-logloss:0.259871\n",
            "[141]\tvalidation_0-logloss:0.016808\tvalidation_1-logloss:0.259601\n",
            "[142]\tvalidation_0-logloss:0.016689\tvalidation_1-logloss:0.259824\n",
            "[143]\tvalidation_0-logloss:0.016565\tvalidation_1-logloss:0.259922\n",
            "[144]\tvalidation_0-logloss:0.016383\tvalidation_1-logloss:0.260348\n",
            "[145]\tvalidation_0-logloss:0.016227\tvalidation_1-logloss:0.260546\n",
            "[146]\tvalidation_0-logloss:0.016061\tvalidation_1-logloss:0.260917\n",
            "[147]\tvalidation_0-logloss:0.015892\tvalidation_1-logloss:0.26137\n",
            "[148]\tvalidation_0-logloss:0.015719\tvalidation_1-logloss:0.259991\n",
            "[149]\tvalidation_0-logloss:0.015565\tvalidation_1-logloss:0.260284\n",
            "[150]\tvalidation_0-logloss:0.015457\tvalidation_1-logloss:0.260479\n",
            "[151]\tvalidation_0-logloss:0.015307\tvalidation_1-logloss:0.261421\n",
            "[152]\tvalidation_0-logloss:0.015151\tvalidation_1-logloss:0.261877\n",
            "[153]\tvalidation_0-logloss:0.015006\tvalidation_1-logloss:0.262274\n",
            "[154]\tvalidation_0-logloss:0.01486\tvalidation_1-logloss:0.262866\n",
            "[155]\tvalidation_0-logloss:0.014759\tvalidation_1-logloss:0.262988\n",
            "[156]\tvalidation_0-logloss:0.014615\tvalidation_1-logloss:0.263459\n",
            "[157]\tvalidation_0-logloss:0.014481\tvalidation_1-logloss:0.263786\n",
            "[158]\tvalidation_0-logloss:0.014336\tvalidation_1-logloss:0.263057\n",
            "[159]\tvalidation_0-logloss:0.014243\tvalidation_1-logloss:0.262369\n",
            "[160]\tvalidation_0-logloss:0.014103\tvalidation_1-logloss:0.262511\n",
            "[161]\tvalidation_0-logloss:0.014009\tvalidation_1-logloss:0.262647\n",
            "[162]\tvalidation_0-logloss:0.013918\tvalidation_1-logloss:0.262639\n",
            "[163]\tvalidation_0-logloss:0.013805\tvalidation_1-logloss:0.262501\n",
            "[164]\tvalidation_0-logloss:0.013717\tvalidation_1-logloss:0.262639\n",
            "[165]\tvalidation_0-logloss:0.013587\tvalidation_1-logloss:0.262551\n",
            "[166]\tvalidation_0-logloss:0.013503\tvalidation_1-logloss:0.261884\n",
            "[167]\tvalidation_0-logloss:0.013417\tvalidation_1-logloss:0.262026\n",
            "[168]\tvalidation_0-logloss:0.013312\tvalidation_1-logloss:0.261898\n",
            "[169]\tvalidation_0-logloss:0.013192\tvalidation_1-logloss:0.26184\n",
            "[170]\tvalidation_0-logloss:0.013124\tvalidation_1-logloss:0.261331\n",
            "[171]\tvalidation_0-logloss:0.013044\tvalidation_1-logloss:0.261479\n",
            "[172]\tvalidation_0-logloss:0.01297\tvalidation_1-logloss:0.26157\n",
            "[173]\tvalidation_0-logloss:0.012846\tvalidation_1-logloss:0.262534\n",
            "[174]\tvalidation_0-logloss:0.012777\tvalidation_1-logloss:0.26229\n",
            "[175]\tvalidation_0-logloss:0.012668\tvalidation_1-logloss:0.260863\n",
            "[176]\tvalidation_0-logloss:0.012581\tvalidation_1-logloss:0.261032\n",
            "Stopping. Best iteration:\n",
            "[126]\tvalidation_0-logloss:0.019728\tvalidation_1-logloss:0.255869\n",
            "\n"
          ]
        }
      ],
      "source": [
        "from xgboost import XGBClassifier\n",
        "\n",
        "# 왜 loss가 두개지, 아 train이랑 validation 같이 했네\n",
        "xgb_wrapper = XGBClassifier(n_estimators=400, learning_rate=0.05, max_depth=3)\n",
        "evals = [(X_tr, y_tr), (X_val, y_val)]\n",
        "xgb_wrapper.fit(X_tr, y_tr, early_stopping_rounds=50, eval_metric=\"logloss\", \n",
        "                eval_set=evals, verbose=True)\n",
        "\n",
        "ws50_preds = xgb_wrapper.predict(X_test)\n",
        "ws50_pred_proba = xgb_wrapper.predict_proba(X_test)[:, 1]"
      ]
    },
    {
      "cell_type": "code",
      "execution_count": 15,
      "metadata": {
        "scrolled": true,
        "colab": {
          "base_uri": "https://localhost:8080/"
        },
        "id": "m9rYsr5_wFLv",
        "outputId": "2252b326-efd2-4963-9a19-60cf354d08e2"
      },
      "outputs": [
        {
          "output_type": "stream",
          "name": "stdout",
          "text": [
            "오차 행렬\n",
            "[[34  3]\n",
            " [ 2 75]]\n",
            "정확도: 0.9561, 정밀도: 0.9615, 재현율: 0.9740,    F1: 0.9677, AUC:0.9933\n"
          ]
        }
      ],
      "source": [
        "get_clf_eval(y_test , ws50_preds, ws50_pred_proba)"
      ]
    },
    {
      "cell_type": "markdown",
      "metadata": {
        "id": "izQKidjPwFLv"
      },
      "source": [
        "**early stopping을 10으로 설정하고 재 학습/예측/평가**"
      ]
    },
    {
      "cell_type": "code",
      "execution_count": 18,
      "metadata": {
        "colab": {
          "base_uri": "https://localhost:8080/"
        },
        "id": "whLp6nTMwFLv",
        "outputId": "1b1dfec9-c3c9-4917-fc53-34ce82e3b2d7"
      },
      "outputs": [
        {
          "output_type": "stream",
          "name": "stdout",
          "text": [
            "[0]\tvalidation_0-logloss:0.650162\tvalidation_1-logloss:0.661831\n",
            "Multiple eval metrics have been passed: 'validation_1-logloss' will be used for early stopping.\n",
            "\n",
            "Will train until validation_1-logloss hasn't improved in 10 rounds.\n",
            "[1]\tvalidation_0-logloss:0.611314\tvalidation_1-logloss:0.636086\n",
            "[2]\tvalidation_0-logloss:0.57563\tvalidation_1-logloss:0.611436\n",
            "[3]\tvalidation_0-logloss:0.543099\tvalidation_1-logloss:0.592036\n",
            "[4]\tvalidation_0-logloss:0.513234\tvalidation_1-logloss:0.573291\n",
            "[5]\tvalidation_0-logloss:0.484475\tvalidation_1-logloss:0.550371\n",
            "[6]\tvalidation_0-logloss:0.457959\tvalidation_1-logloss:0.529295\n",
            "[7]\tvalidation_0-logloss:0.434357\tvalidation_1-logloss:0.51534\n",
            "[8]\tvalidation_0-logloss:0.411503\tvalidation_1-logloss:0.497179\n",
            "[9]\tvalidation_0-logloss:0.390274\tvalidation_1-logloss:0.481542\n",
            "[10]\tvalidation_0-logloss:0.371284\tvalidation_1-logloss:0.469904\n",
            "[11]\tvalidation_0-logloss:0.352541\tvalidation_1-logloss:0.45474\n",
            "[12]\tvalidation_0-logloss:0.335278\tvalidation_1-logloss:0.442294\n",
            "[13]\tvalidation_0-logloss:0.318925\tvalidation_1-logloss:0.429608\n",
            "[14]\tvalidation_0-logloss:0.304393\tvalidation_1-logloss:0.420649\n",
            "[15]\tvalidation_0-logloss:0.289996\tvalidation_1-logloss:0.409577\n",
            "[16]\tvalidation_0-logloss:0.276513\tvalidation_1-logloss:0.398867\n",
            "[17]\tvalidation_0-logloss:0.263894\tvalidation_1-logloss:0.390504\n",
            "[18]\tvalidation_0-logloss:0.252102\tvalidation_1-logloss:0.382539\n",
            "[19]\tvalidation_0-logloss:0.241231\tvalidation_1-logloss:0.373933\n",
            "[20]\tvalidation_0-logloss:0.230763\tvalidation_1-logloss:0.367887\n",
            "[21]\tvalidation_0-logloss:0.220913\tvalidation_1-logloss:0.360174\n",
            "[22]\tvalidation_0-logloss:0.211555\tvalidation_1-logloss:0.354212\n",
            "[23]\tvalidation_0-logloss:0.20263\tvalidation_1-logloss:0.346828\n",
            "[24]\tvalidation_0-logloss:0.194341\tvalidation_1-logloss:0.341107\n",
            "[25]\tvalidation_0-logloss:0.186369\tvalidation_1-logloss:0.336341\n",
            "[26]\tvalidation_0-logloss:0.178748\tvalidation_1-logloss:0.330823\n",
            "[27]\tvalidation_0-logloss:0.171671\tvalidation_1-logloss:0.326746\n",
            "[28]\tvalidation_0-logloss:0.164814\tvalidation_1-logloss:0.32099\n",
            "[29]\tvalidation_0-logloss:0.158347\tvalidation_1-logloss:0.316706\n",
            "[30]\tvalidation_0-logloss:0.152249\tvalidation_1-logloss:0.312766\n",
            "[31]\tvalidation_0-logloss:0.146498\tvalidation_1-logloss:0.308823\n",
            "[32]\tvalidation_0-logloss:0.141021\tvalidation_1-logloss:0.304373\n",
            "[33]\tvalidation_0-logloss:0.135903\tvalidation_1-logloss:0.301034\n",
            "[34]\tvalidation_0-logloss:0.131089\tvalidation_1-logloss:0.297937\n",
            "[35]\tvalidation_0-logloss:0.126469\tvalidation_1-logloss:0.294994\n",
            "[36]\tvalidation_0-logloss:0.121972\tvalidation_1-logloss:0.292951\n",
            "[37]\tvalidation_0-logloss:0.117844\tvalidation_1-logloss:0.290434\n",
            "[38]\tvalidation_0-logloss:0.113793\tvalidation_1-logloss:0.289272\n",
            "[39]\tvalidation_0-logloss:0.109943\tvalidation_1-logloss:0.285777\n",
            "[40]\tvalidation_0-logloss:0.106376\tvalidation_1-logloss:0.283644\n",
            "[41]\tvalidation_0-logloss:0.103022\tvalidation_1-logloss:0.281831\n",
            "[42]\tvalidation_0-logloss:0.099625\tvalidation_1-logloss:0.280047\n",
            "[43]\tvalidation_0-logloss:0.096486\tvalidation_1-logloss:0.279718\n",
            "[44]\tvalidation_0-logloss:0.093594\tvalidation_1-logloss:0.277438\n",
            "[45]\tvalidation_0-logloss:0.090803\tvalidation_1-logloss:0.275416\n",
            "[46]\tvalidation_0-logloss:0.088072\tvalidation_1-logloss:0.275037\n",
            "[47]\tvalidation_0-logloss:0.085411\tvalidation_1-logloss:0.274579\n",
            "[48]\tvalidation_0-logloss:0.082988\tvalidation_1-logloss:0.273483\n",
            "[49]\tvalidation_0-logloss:0.080349\tvalidation_1-logloss:0.272474\n",
            "[50]\tvalidation_0-logloss:0.077857\tvalidation_1-logloss:0.271628\n",
            "[51]\tvalidation_0-logloss:0.075504\tvalidation_1-logloss:0.270936\n",
            "[52]\tvalidation_0-logloss:0.073438\tvalidation_1-logloss:0.26967\n",
            "[53]\tvalidation_0-logloss:0.071468\tvalidation_1-logloss:0.270078\n",
            "[54]\tvalidation_0-logloss:0.069642\tvalidation_1-logloss:0.268902\n",
            "[55]\tvalidation_0-logloss:0.067661\tvalidation_1-logloss:0.268544\n",
            "[56]\tvalidation_0-logloss:0.065915\tvalidation_1-logloss:0.268998\n",
            "[57]\tvalidation_0-logloss:0.064327\tvalidation_1-logloss:0.267897\n",
            "[58]\tvalidation_0-logloss:0.062588\tvalidation_1-logloss:0.266632\n",
            "[59]\tvalidation_0-logloss:0.061074\tvalidation_1-logloss:0.267428\n",
            "[60]\tvalidation_0-logloss:0.05957\tvalidation_1-logloss:0.266097\n",
            "[61]\tvalidation_0-logloss:0.058166\tvalidation_1-logloss:0.266438\n",
            "[62]\tvalidation_0-logloss:0.056912\tvalidation_1-logloss:0.26673\n",
            "[63]\tvalidation_0-logloss:0.055498\tvalidation_1-logloss:0.265499\n",
            "[64]\tvalidation_0-logloss:0.054219\tvalidation_1-logloss:0.26443\n",
            "[65]\tvalidation_0-logloss:0.053109\tvalidation_1-logloss:0.265004\n",
            "[66]\tvalidation_0-logloss:0.05207\tvalidation_1-logloss:0.265905\n",
            "[67]\tvalidation_0-logloss:0.050929\tvalidation_1-logloss:0.265012\n",
            "[68]\tvalidation_0-logloss:0.04976\tvalidation_1-logloss:0.264348\n",
            "[69]\tvalidation_0-logloss:0.048717\tvalidation_1-logloss:0.263599\n",
            "[70]\tvalidation_0-logloss:0.047764\tvalidation_1-logloss:0.263186\n",
            "[71]\tvalidation_0-logloss:0.046802\tvalidation_1-logloss:0.262547\n",
            "[72]\tvalidation_0-logloss:0.0458\tvalidation_1-logloss:0.26204\n",
            "[73]\tvalidation_0-logloss:0.044838\tvalidation_1-logloss:0.262537\n",
            "[74]\tvalidation_0-logloss:0.043883\tvalidation_1-logloss:0.262887\n",
            "[75]\tvalidation_0-logloss:0.043086\tvalidation_1-logloss:0.262487\n",
            "[76]\tvalidation_0-logloss:0.042236\tvalidation_1-logloss:0.262175\n",
            "[77]\tvalidation_0-logloss:0.04133\tvalidation_1-logloss:0.261664\n",
            "[78]\tvalidation_0-logloss:0.0405\tvalidation_1-logloss:0.26179\n",
            "[79]\tvalidation_0-logloss:0.039667\tvalidation_1-logloss:0.261034\n",
            "[80]\tvalidation_0-logloss:0.038765\tvalidation_1-logloss:0.260937\n",
            "[81]\tvalidation_0-logloss:0.038064\tvalidation_1-logloss:0.261483\n",
            "[82]\tvalidation_0-logloss:0.037396\tvalidation_1-logloss:0.260539\n",
            "[83]\tvalidation_0-logloss:0.036763\tvalidation_1-logloss:0.259672\n",
            "[84]\tvalidation_0-logloss:0.036052\tvalidation_1-logloss:0.259053\n",
            "[85]\tvalidation_0-logloss:0.035453\tvalidation_1-logloss:0.260073\n",
            "[86]\tvalidation_0-logloss:0.034885\tvalidation_1-logloss:0.259836\n",
            "[87]\tvalidation_0-logloss:0.03425\tvalidation_1-logloss:0.259332\n",
            "[88]\tvalidation_0-logloss:0.033608\tvalidation_1-logloss:0.259319\n",
            "[89]\tvalidation_0-logloss:0.033107\tvalidation_1-logloss:0.260023\n",
            "[90]\tvalidation_0-logloss:0.0326\tvalidation_1-logloss:0.25936\n",
            "[91]\tvalidation_0-logloss:0.032016\tvalidation_1-logloss:0.258861\n",
            "[92]\tvalidation_0-logloss:0.031522\tvalidation_1-logloss:0.259177\n",
            "[93]\tvalidation_0-logloss:0.031067\tvalidation_1-logloss:0.258645\n",
            "[94]\tvalidation_0-logloss:0.030485\tvalidation_1-logloss:0.259511\n",
            "[95]\tvalidation_0-logloss:0.030072\tvalidation_1-logloss:0.260911\n",
            "[96]\tvalidation_0-logloss:0.029626\tvalidation_1-logloss:0.260142\n",
            "[97]\tvalidation_0-logloss:0.029131\tvalidation_1-logloss:0.25974\n",
            "[98]\tvalidation_0-logloss:0.02866\tvalidation_1-logloss:0.259371\n",
            "[99]\tvalidation_0-logloss:0.028285\tvalidation_1-logloss:0.258932\n",
            "[100]\tvalidation_0-logloss:0.027886\tvalidation_1-logloss:0.259282\n",
            "[101]\tvalidation_0-logloss:0.027512\tvalidation_1-logloss:0.259552\n",
            "[102]\tvalidation_0-logloss:0.027137\tvalidation_1-logloss:0.259006\n",
            "[103]\tvalidation_0-logloss:0.026676\tvalidation_1-logloss:0.259906\n",
            "Stopping. Best iteration:\n",
            "[93]\tvalidation_0-logloss:0.031067\tvalidation_1-logloss:0.258645\n",
            "\n",
            "오차 행렬\n",
            "[[34  3]\n",
            " [ 3 74]]\n",
            "정확도: 0.9474, 정밀도: 0.9610, 재현율: 0.9610,    F1: 0.9610, AUC:0.9933\n"
          ]
        }
      ],
      "source": [
        "# early_stopping_rounds를 10으로 설정하고 재 학습. \n",
        "xgb_wrapper.fit(X_tr, y_tr, early_stopping_rounds=10, \n",
        "                eval_metric=\"logloss\", eval_set=evals,verbose=True)\n",
        "\n",
        "ws10_preds = xgb_wrapper.predict(X_test)\n",
        "ws10_pred_proba = xgb_wrapper.predict_proba(X_test)[:, 1]\n",
        "get_clf_eval(y_test , ws10_preds, ws10_pred_proba)"
      ]
    },
    {
      "cell_type": "code",
      "execution_count": null,
      "metadata": {
        "id": "NxYUAAfWwFLv",
        "outputId": "3046156b-1108-4422-85aa-e5b3ffa90e5e"
      },
      "outputs": [
        {
          "data": {
            "text/plain": [
              "<AxesSubplot:title={'center':'Feature importance'}, xlabel='F score', ylabel='Features'>"
            ]
          },
          "execution_count": 23,
          "metadata": {},
          "output_type": "execute_result"
        },
        {
          "data": {
            "image/png": "[encoded data removed]",
            "text/plain": [
              "<Figure size 720x864 with 1 Axes>"
            ]
          },
          "metadata": {
            "needs_background": "light"
          },
          "output_type": "display_data"
        }
      ],
      "source": [
        "from xgboost import plot_importance\n",
        "import matplotlib.pyplot as plt\n",
        "%matplotlib inline\n",
        "\n",
        "fig, ax = plt.subplots(figsize=(10, 12))\n",
        "# 사이킷런 래퍼 클래스를 입력해도 무방. \n",
        "plot_importance(xgb_wrapper, ax=ax)"
      ]
    },
    {
      "cell_type": "code",
      "execution_count": null,
      "metadata": {
        "id": "7Tjs0YBfwFLw"
      },
      "outputs": [],
      "source": [
        ""
      ]
    }
  ],
  "metadata": {
    "kernelspec": {
      "display_name": "Python 3 (ipykernel)",
      "language": "python",
      "name": "python3"
    },
    "language_info": {
      "codemirror_mode": {
        "name": "ipython",
        "version": 3
      },
      "file_extension": ".py",
      "mimetype": "text/x-python",
      "name": "python",
      "nbconvert_exporter": "python",
      "pygments_lexer": "ipython3",
      "version": "3.9.7"
    },
    "colab": {
      "name": "4.6실습_XGBoost(eXtra Gradient Boost).ipynb",
      "provenance": []
    }
  },
  "nbformat": 4,
  "nbformat_minor": 0
}