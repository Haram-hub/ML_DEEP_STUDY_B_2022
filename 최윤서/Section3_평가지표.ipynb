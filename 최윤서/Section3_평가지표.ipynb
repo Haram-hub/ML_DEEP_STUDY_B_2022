{
 "cells": [
  {
   "cell_type": "markdown",
   "id": "3d903df5",
   "metadata": {},
   "source": [
    "## 분류성능평가지표\n",
    " 1. accuracy\n",
    " 2. confusion matrix\n",
    " 3. precision, recall\n",
    " 4. f1 score\n",
    " 5. ROC AUC"
   ]
  },
  {
   "cell_type": "markdown",
   "id": "182b722d",
   "metadata": {},
   "source": [
    "### 1. accuracy\n",
    "- 예측 맞게 한 것/전체\n",
    "- 자료의 label 분포가 불균형할때 적합한 지표가 아니다"
   ]
  },
  {
   "cell_type": "code",
   "execution_count": 16,
   "id": "71153186",
   "metadata": {},
   "outputs": [],
   "source": [
    "import numpy as np\n",
    "from sklearn.metrics import accuracy_score\n",
    "from sklearn.datasets import load_digits\n",
    "from sklearn.base import BaseEstimator\n",
    "from sklearn.model_selection import train_test_split\n",
    "\n",
    "class MyFakeClassifier(BaseEstimator):\n",
    "    def fit(self,X,y):\n",
    "        pass\n",
    "    def predict(self,X):\n",
    "        return np.zeros(len(X)) #뭐든지 0이라고 예측"
   ]
  },
  {
   "cell_type": "code",
   "execution_count": 17,
   "id": "2bdf3a4a",
   "metadata": {},
   "outputs": [],
   "source": [
    "digits=load_digits()\n",
    "y=(digits.target==7).astype(int) #숫자가 7이면1, 아니면0"
   ]
  },
  {
   "cell_type": "code",
   "execution_count": 22,
   "id": "15c4e1a7",
   "metadata": {},
   "outputs": [],
   "source": [
    "X_train, X_test, y_train, y_test=train_test_split(digits.data,y,\n",
    "                                                 test_size=0.2,random_state=11)"
   ]
  },
  {
   "cell_type": "code",
   "execution_count": 23,
   "id": "37b3d87b",
   "metadata": {},
   "outputs": [
    {
     "data": {
      "text/plain": [
       "0.9"
      ]
     },
     "execution_count": 23,
     "metadata": {},
     "output_type": "execute_result"
    }
   ],
   "source": [
    "fakeclf=MyFakeClassifier()\n",
    "fakeclf.fit(X_train,y_train) #fit\n",
    "pred=fakeclf.predict(X_test) #predict(그냥 뭐든지 다 0이라고 예측)\n",
    "accuracy_score(y_test,pred)"
   ]
  },
  {
   "cell_type": "markdown",
   "id": "75e8d6e2",
   "metadata": {},
   "source": [
    "### 2. confusion matrix"
   ]
  },
  {
   "cell_type": "code",
   "execution_count": 21,
   "id": "e324e524",
   "metadata": {},
   "outputs": [
    {
     "data": {
      "text/plain": [
       "array([[405,   0],\n",
       "       [ 45,   0]], dtype=int64)"
      ]
     },
     "execution_count": 21,
     "metadata": {},
     "output_type": "execute_result"
    }
   ],
   "source": [
    "from sklearn.metrics import confusion_matrix\n",
    "confusion_matrix(y_test,pred)"
   ]
  },
  {
   "cell_type": "markdown",
   "id": "1f3549d9",
   "metadata": {},
   "source": [
    "### 3. precision, recall\n",
    "- precision: 예측1로 한 것중에 맞은 비율 ex) 위의 예시에서 0\n",
    "- recall: 실제1인 것중에 맞은 비율 ex) 위의 예시에서 0\n",
    "- precision이 중요한 경우: 스팸메일\n",
    "- recall이 중요한 경우: 암, 보험사기\n",
    "- threshold(임계값)을 조정하여서 precision이나 recall을 높일 수 있음.\n",
    "- 임계값 낮아질수록 양성이라고 예측 많이해서 precision 낮아지고 recall 높아짐"
   ]
  },
  {
   "cell_type": "code",
   "execution_count": 101,
   "id": "a912cf61",
   "metadata": {},
   "outputs": [
    {
     "data": {
      "text/html": [
       "<div>\n",
       "<style scoped>\n",
       "    .dataframe tbody tr th:only-of-type {\n",
       "        vertical-align: middle;\n",
       "    }\n",
       "\n",
       "    .dataframe tbody tr th {\n",
       "        vertical-align: top;\n",
       "    }\n",
       "\n",
       "    .dataframe thead th {\n",
       "        text-align: right;\n",
       "    }\n",
       "</style>\n",
       "<table border=\"1\" class=\"dataframe\">\n",
       "  <thead>\n",
       "    <tr style=\"text-align: right;\">\n",
       "      <th></th>\n",
       "      <th>PassengerId</th>\n",
       "      <th>Survived</th>\n",
       "      <th>Pclass</th>\n",
       "      <th>Name</th>\n",
       "      <th>Sex</th>\n",
       "      <th>Age</th>\n",
       "      <th>SibSp</th>\n",
       "      <th>Parch</th>\n",
       "      <th>Ticket</th>\n",
       "      <th>Fare</th>\n",
       "      <th>Cabin</th>\n",
       "      <th>Embarked</th>\n",
       "    </tr>\n",
       "  </thead>\n",
       "  <tbody>\n",
       "    <tr>\n",
       "      <th>0</th>\n",
       "      <td>1</td>\n",
       "      <td>0</td>\n",
       "      <td>3</td>\n",
       "      <td>Braund, Mr. Owen Harris</td>\n",
       "      <td>male</td>\n",
       "      <td>22.0</td>\n",
       "      <td>1</td>\n",
       "      <td>0</td>\n",
       "      <td>A/5 21171</td>\n",
       "      <td>7.2500</td>\n",
       "      <td>NaN</td>\n",
       "      <td>S</td>\n",
       "    </tr>\n",
       "    <tr>\n",
       "      <th>1</th>\n",
       "      <td>2</td>\n",
       "      <td>1</td>\n",
       "      <td>1</td>\n",
       "      <td>Cumings, Mrs. John Bradley (Florence Briggs Th...</td>\n",
       "      <td>female</td>\n",
       "      <td>38.0</td>\n",
       "      <td>1</td>\n",
       "      <td>0</td>\n",
       "      <td>PC 17599</td>\n",
       "      <td>71.2833</td>\n",
       "      <td>C85</td>\n",
       "      <td>C</td>\n",
       "    </tr>\n",
       "    <tr>\n",
       "      <th>2</th>\n",
       "      <td>3</td>\n",
       "      <td>1</td>\n",
       "      <td>3</td>\n",
       "      <td>Heikkinen, Miss. Laina</td>\n",
       "      <td>female</td>\n",
       "      <td>26.0</td>\n",
       "      <td>0</td>\n",
       "      <td>0</td>\n",
       "      <td>STON/O2. 3101282</td>\n",
       "      <td>7.9250</td>\n",
       "      <td>NaN</td>\n",
       "      <td>S</td>\n",
       "    </tr>\n",
       "  </tbody>\n",
       "</table>\n",
       "</div>"
      ],
      "text/plain": [
       "   PassengerId  Survived  Pclass  \\\n",
       "0            1         0       3   \n",
       "1            2         1       1   \n",
       "2            3         1       3   \n",
       "\n",
       "                                                Name     Sex   Age  SibSp  \\\n",
       "0                            Braund, Mr. Owen Harris    male  22.0      1   \n",
       "1  Cumings, Mrs. John Bradley (Florence Briggs Th...  female  38.0      1   \n",
       "2                             Heikkinen, Miss. Laina  female  26.0      0   \n",
       "\n",
       "   Parch            Ticket     Fare Cabin Embarked  \n",
       "0      0         A/5 21171   7.2500   NaN        S  \n",
       "1      0          PC 17599  71.2833   C85        C  \n",
       "2      0  STON/O2. 3101282   7.9250   NaN        S  "
      ]
     },
     "execution_count": 101,
     "metadata": {},
     "output_type": "execute_result"
    }
   ],
   "source": [
    "#타이타닉 데이터 가지고 돌릴려면 전처리 먼저 해줘야함!\n",
    "import pandas as pd\n",
    "df=pd.read_csv('titanic_train.csv')\n",
    "df.head(3)"
   ]
  },
  {
   "cell_type": "code",
   "execution_count": 102,
   "id": "94ae6514",
   "metadata": {},
   "outputs": [
    {
     "name": "stdout",
     "output_type": "stream",
     "text": [
      "<class 'pandas.core.frame.DataFrame'>\n",
      "RangeIndex: 891 entries, 0 to 890\n",
      "Data columns (total 12 columns):\n",
      " #   Column       Non-Null Count  Dtype  \n",
      "---  ------       --------------  -----  \n",
      " 0   PassengerId  891 non-null    int64  \n",
      " 1   Survived     891 non-null    int64  \n",
      " 2   Pclass       891 non-null    int64  \n",
      " 3   Name         891 non-null    object \n",
      " 4   Sex          891 non-null    object \n",
      " 5   Age          714 non-null    float64\n",
      " 6   SibSp        891 non-null    int64  \n",
      " 7   Parch        891 non-null    int64  \n",
      " 8   Ticket       891 non-null    object \n",
      " 9   Fare         891 non-null    float64\n",
      " 10  Cabin        204 non-null    object \n",
      " 11  Embarked     889 non-null    object \n",
      "dtypes: float64(2), int64(5), object(5)\n",
      "memory usage: 83.7+ KB\n"
     ]
    }
   ],
   "source": [
    "df.info()"
   ]
  },
  {
   "cell_type": "code",
   "execution_count": 103,
   "id": "3e50ff7b",
   "metadata": {},
   "outputs": [],
   "source": [
    "#필요없는 정보 제거\n",
    "df.drop(['PassengerId','Name','Ticket'],axis=1,inplace=True)"
   ]
  },
  {
   "cell_type": "code",
   "execution_count": 104,
   "id": "df1bdb8c",
   "metadata": {},
   "outputs": [],
   "source": [
    "#성별 label encoding\n",
    "from sklearn.preprocessing import LabelEncoder\n",
    "encoder=LabelEncoder()\n",
    "encoder.fit(df['Sex'])\n",
    "labels=encoder.transform(df['Sex'])\n",
    "df['Sex']=labels"
   ]
  },
  {
   "cell_type": "code",
   "execution_count": 105,
   "id": "92c842cf",
   "metadata": {},
   "outputs": [],
   "source": [
    "#age 결측값 평균으로 채우기\n",
    "df['Age'].fillna(df['Age'].mean(),inplace=True)"
   ]
  },
  {
   "cell_type": "code",
   "execution_count": 106,
   "id": "1412efa3",
   "metadata": {},
   "outputs": [],
   "source": [
    "#cabin, embarked 결측값에 'N'채우기\n",
    "df['Cabin'].fillna('N',inplace=True)\n",
    "df['Embarked'].fillna('N',inplace=True)\n",
    "#cabin 첫글자만 따기\n",
    "df['Cabin']=df['Cabin'].str[:1]"
   ]
  },
  {
   "cell_type": "code",
   "execution_count": 107,
   "id": "eeb4aa52",
   "metadata": {},
   "outputs": [],
   "source": [
    "#cabin, embarked label encoding\n",
    "features=['Cabin','Embarked']\n",
    "for feature in features:\n",
    "    le=LabelEncoder()\n",
    "    le.fit(df[feature])\n",
    "    df[feature]=le.transform(df[feature])"
   ]
  },
  {
   "cell_type": "code",
   "execution_count": 108,
   "id": "1f38589d",
   "metadata": {},
   "outputs": [
    {
     "name": "stdout",
     "output_type": "stream",
     "text": [
      "<class 'pandas.core.frame.DataFrame'>\n",
      "RangeIndex: 891 entries, 0 to 890\n",
      "Data columns (total 9 columns):\n",
      " #   Column    Non-Null Count  Dtype  \n",
      "---  ------    --------------  -----  \n",
      " 0   Survived  891 non-null    int64  \n",
      " 1   Pclass    891 non-null    int64  \n",
      " 2   Sex       891 non-null    int32  \n",
      " 3   Age       891 non-null    float64\n",
      " 4   SibSp     891 non-null    int64  \n",
      " 5   Parch     891 non-null    int64  \n",
      " 6   Fare      891 non-null    float64\n",
      " 7   Cabin     891 non-null    int32  \n",
      " 8   Embarked  891 non-null    int32  \n",
      "dtypes: float64(2), int32(3), int64(4)\n",
      "memory usage: 52.3 KB\n"
     ]
    }
   ],
   "source": [
    "#전처리 완료!\n",
    "df.info()"
   ]
  },
  {
   "cell_type": "code",
   "execution_count": 109,
   "id": "397dfb70",
   "metadata": {},
   "outputs": [
    {
     "name": "stdout",
     "output_type": "stream",
     "text": [
      "[[108  10]\n",
      " [ 14  47]]\n",
      "0.8245614035087719\n",
      "0.7704918032786885\n"
     ]
    }
   ],
   "source": [
    "from sklearn.linear_model import LogisticRegression\n",
    "from sklearn.metrics import precision_score, recall_score\n",
    "\n",
    "y=df['Survived']\n",
    "x=df.drop('Survived',axis=1)\n",
    "\n",
    "X_train, X_test, y_train, y_test=train_test_split(x,y,test_size=0.2,random_state=11)\n",
    "\n",
    "lr_clf=LogisticRegression(solver='liblinear')\n",
    "\n",
    "lr_clf.fit(X_train, y_train)\n",
    "pred=lr_clf.predict(X_test)\n",
    "print(confusion_matrix(y_test,pred))\n",
    "print(precision_score(y_test,pred))\n",
    "print(recall_score(y_test,pred)) \n",
    "#여기서 신기했던거! 나는 연령대 결측치를 평균으로 채우는 것보다는 제거하는 것이 더 score가 높게 나올줄 알았는데 아니다"
   ]
  },
  {
   "cell_type": "markdown",
   "id": "4dc847b5",
   "metadata": {},
   "source": [
    "- 임계값 조정에 따라"
   ]
  },
  {
   "cell_type": "code",
   "execution_count": 113,
   "id": "08835420",
   "metadata": {},
   "outputs": [
    {
     "data": {
      "text/plain": [
       "array([[0.44935227, 0.55064773],\n",
       "       [0.86335512, 0.13664488],\n",
       "       [0.86429645, 0.13570355]])"
      ]
     },
     "execution_count": 113,
     "metadata": {},
     "output_type": "execute_result"
    }
   ],
   "source": [
    "#predict_proba() 예측 확률 자체를 반환 [0일확률, 1일확률]\n",
    "pred_proba=lr_clf.predict_proba(X_test)\n",
    "pred_proba[:3]"
   ]
  },
  {
   "cell_type": "code",
   "execution_count": 119,
   "id": "9b78d7fd",
   "metadata": {},
   "outputs": [
    {
     "name": "stdout",
     "output_type": "stream",
     "text": [
      "0.704225352112676\n",
      "0.819672131147541\n"
     ]
    }
   ],
   "source": [
    "#Binarizer 이용해서 임계값 조정\n",
    "from sklearn.preprocessing import Binarizer\n",
    "pred_proba_1=pred_proba[:,1].reshape(-1,1)\n",
    "binarizer=Binarizer(threshold=0.4).fit(pred_proba_1)\n",
    "predict=binarizer.transform(pred_proba_1)\n",
    "\n",
    "print(precision_score(y_test,predict))\n",
    "print(recall_score(y_test,predict)) #임계값 낮췄으니 recall 높아질것"
   ]
  },
  {
   "cell_type": "code",
   "execution_count": 121,
   "id": "b0944a9e",
   "metadata": {},
   "outputs": [
    {
     "name": "stdout",
     "output_type": "stream",
     "text": [
      "[0.11573102 0.11636721 0.11819212 0.12102773 0.12349479]\n",
      "[0.37888199 0.375      0.37735849 0.37974684 0.38216561]\n",
      "[1.         0.98360656 0.98360656 0.98360656 0.98360656]\n"
     ]
    }
   ],
   "source": [
    "#임계값 변경에 따른 정밀도-재현율 변화\n",
    "from sklearn.metrics import precision_recall_curve\n",
    "precisions, recalls, thresholds=precision_recall_curve(y_test,pred_proba_1)\n",
    "print(thresholds[]) #임계값이 증가함에 따라 precision 증가, recall 감소\n",
    "print(precisions[:5])\n",
    "print(recalls[:5])\n",
    "\n",
    "#여기서 왜 thresholds, precisions shape이 다르게 나오는지가 이해가 안됨"
   ]
  },
  {
   "cell_type": "markdown",
   "id": "682ddc85",
   "metadata": {},
   "source": [
    "### 4. F1 score\n",
    "- 2*precision*recall/(precision+recall)"
   ]
  },
  {
   "cell_type": "code",
   "execution_count": 128,
   "id": "0fc1108c",
   "metadata": {},
   "outputs": [
    {
     "data": {
      "text/plain": [
       "0.7966101694915254"
      ]
     },
     "execution_count": 128,
     "metadata": {},
     "output_type": "execute_result"
    }
   ],
   "source": [
    "from sklearn.metrics import f1_score\n",
    "f1=f1_score(y_test,pred)\n",
    "f1"
   ]
  },
  {
   "cell_type": "markdown",
   "id": "e83476c5",
   "metadata": {},
   "source": [
    "### 5. ROC AUC\n",
    "- ROC: FPR이 변할때 TPR이 어떻게 변하는지 나타낸 곡선\n",
    "- AUC: ROC 곡선 밑에 면적;1에 가까울수록 좋은 수치\n",
    "- FPR: 실제 0인 것중에 틀린거\n",
    "- TPR: 실제 1인 것중에 맞은거\n",
    "\n",
    "- 임계값이 0이라고 한다면 둘다 1\n",
    "- 임계값을 높여감에 따라서 FPR은 빠르게, TPR은 느리게 떨어져야 좋은 것이다. 즉, 면적이 넓을 수록 좋은것"
   ]
  },
  {
   "cell_type": "code",
   "execution_count": 129,
   "id": "1e5826e7",
   "metadata": {},
   "outputs": [
    {
     "name": "stdout",
     "output_type": "stream",
     "text": [
      "[1.94326279 0.94326279 0.94040086 0.93261004 0.87778554 0.86565305\n",
      " 0.72771397 0.68584875 0.64779432 0.63856712]\n",
      "[0.         0.         0.         0.         0.         0.00847458\n",
      " 0.00847458 0.01694915 0.01694915 0.02542373]\n",
      "[0.         0.01639344 0.03278689 0.06557377 0.24590164 0.24590164\n",
      " 0.49180328 0.49180328 0.63934426 0.63934426]\n"
     ]
    }
   ],
   "source": [
    "from sklearn.metrics import roc_curve\n",
    "fprs, tprs, thresholds=roc_curve(y_test,pred_proba_1)\n",
    "print(thresholds[:10])\n",
    "print(fprs[:10])\n",
    "print(tprs[:10])"
   ]
  },
  {
   "cell_type": "code",
   "execution_count": 135,
   "id": "8efeb984",
   "metadata": {},
   "outputs": [
    {
     "data": {
      "text/plain": [
       "0.8986524034454015"
      ]
     },
     "execution_count": 135,
     "metadata": {},
     "output_type": "execute_result"
    }
   ],
   "source": [
    "from sklearn.metrics import roc_auc_score\n",
    "roc_score=roc_auc_score(y_test,pred_proba_1)\n",
    "roc_score"
   ]
  },
  {
   "cell_type": "markdown",
   "id": "397a2455",
   "metadata": {},
   "source": [
    "### 6. 모델 평가하는 함수"
   ]
  },
  {
   "cell_type": "code",
   "execution_count": 143,
   "id": "1dfd429e",
   "metadata": {},
   "outputs": [],
   "source": [
    "def get_clf_eval(y_test,pred=None,pred_proba=None):\n",
    "    confusion=confusion_matrix(y_test,pred)\n",
    "    accuracy=accuracy_score(y_test,pred)\n",
    "    precision=precision_score(y_test,pred)\n",
    "    recall=recall_score(y_test,pred)\n",
    "    f1=f1_score(y_test,pred)\n",
    "    roc_auc=roc_auc_score(y_test,pred_proba)\n",
    "    print('오차행렬')\n",
    "    print(confusion)\n",
    "    print('정확도:{0:.4f}, 정밀도:{1:.4f}, 재현율:{2:.4f}, f1:{3:.4f}, AUC:{4:.4f}'.format(accuracy, precision, recall, f1, roc_auc))"
   ]
  },
  {
   "cell_type": "code",
   "execution_count": 144,
   "id": "c4670d3d",
   "metadata": {},
   "outputs": [
    {
     "name": "stdout",
     "output_type": "stream",
     "text": [
      "오차행렬\n",
      "[[108  10]\n",
      " [ 14  47]]\n",
      "정확도:0.8659, 정밀도:0.8246, 재현율:0.7705, f1:0.7966, AUC:0.8987\n"
     ]
    }
   ],
   "source": [
    "get_clf_eval(y_test,pred,pred_proba_1)"
   ]
  }
 ],
 "metadata": {
  "kernelspec": {
   "display_name": "Python 3",
   "language": "python",
   "name": "python3"
  },
  "language_info": {
   "codemirror_mode": {
    "name": "ipython",
    "version": 3
   },
   "file_extension": ".py",
   "mimetype": "text/x-python",
   "name": "python",
   "nbconvert_exporter": "python",
   "pygments_lexer": "ipython3",
   "version": "3.8.8"
  }
 },
 "nbformat": 4,
 "nbformat_minor": 5
}
